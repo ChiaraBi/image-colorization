{
 "nbformat": 4,
 "nbformat_minor": 0,
 "metadata": {
  "colab": {
   "name": "InstColorization.ipynb",
   "provenance": [],
   "collapsed_sections": []
  },
  "kernelspec": {
   "name": "python3",
   "display_name": "Python 3"
  },
  "accelerator": "GPU",
  "widgets": {
   "application/vnd.jupyter.widget-state+json": {
    "07d6dceeea5b4615a2ca2fec1e576a60": {
     "model_module": "@jupyter-widgets/controls",
     "model_name": "HBoxModel",
     "model_module_version": "1.5.0",
     "state": {
      "_view_name": "HBoxView",
      "_dom_classes": [],
      "_model_name": "HBoxModel",
      "_view_module": "@jupyter-widgets/controls",
      "_model_module_version": "1.5.0",
      "_view_count": null,
      "_view_module_version": "1.5.0",
      "box_style": "",
      "layout": "IPY_MODEL_d402b4552dcb43bbb69e0fe86aee2c8b",
      "_model_module": "@jupyter-widgets/controls",
      "children": [
       "IPY_MODEL_2b3ede9502124fe392c53a7f4eca78e8",
       "IPY_MODEL_5c060741e83a4b998d762500298c6cb7",
       "IPY_MODEL_b6e45ceaedce4d63893f9fcead643c7c"
      ]
     }
    },
    "d402b4552dcb43bbb69e0fe86aee2c8b": {
     "model_module": "@jupyter-widgets/base",
     "model_name": "LayoutModel",
     "model_module_version": "1.2.0",
     "state": {
      "_view_name": "LayoutView",
      "grid_template_rows": null,
      "right": null,
      "justify_content": null,
      "_view_module": "@jupyter-widgets/base",
      "overflow": null,
      "_model_module_version": "1.2.0",
      "_view_count": null,
      "flex_flow": null,
      "width": null,
      "min_width": null,
      "border": null,
      "align_items": null,
      "bottom": null,
      "_model_module": "@jupyter-widgets/base",
      "top": null,
      "grid_column": null,
      "overflow_y": null,
      "overflow_x": null,
      "grid_auto_flow": null,
      "grid_area": null,
      "grid_template_columns": null,
      "flex": null,
      "_model_name": "LayoutModel",
      "justify_items": null,
      "grid_row": null,
      "max_height": null,
      "align_content": null,
      "visibility": null,
      "align_self": null,
      "height": null,
      "min_height": null,
      "padding": null,
      "grid_auto_rows": null,
      "grid_gap": null,
      "max_width": null,
      "order": null,
      "_view_module_version": "1.2.0",
      "grid_template_areas": null,
      "object_position": null,
      "object_fit": null,
      "grid_auto_columns": null,
      "margin": null,
      "display": null,
      "left": null
     }
    },
    "2b3ede9502124fe392c53a7f4eca78e8": {
     "model_module": "@jupyter-widgets/controls",
     "model_name": "HTMLModel",
     "model_module_version": "1.5.0",
     "state": {
      "_view_name": "HTMLView",
      "style": "IPY_MODEL_b91554fd22a846428a6c7b191fb249f8",
      "_dom_classes": [],
      "description": "",
      "_model_name": "HTMLModel",
      "placeholder": "​",
      "_view_module": "@jupyter-widgets/controls",
      "_model_module_version": "1.5.0",
      "value": "100%",
      "_view_count": null,
      "_view_module_version": "1.5.0",
      "description_tooltip": null,
      "_model_module": "@jupyter-widgets/controls",
      "layout": "IPY_MODEL_66dd62e4c0954b7a802ab5f86d1f71a1"
     }
    },
    "5c060741e83a4b998d762500298c6cb7": {
     "model_module": "@jupyter-widgets/controls",
     "model_name": "FloatProgressModel",
     "model_module_version": "1.5.0",
     "state": {
      "_view_name": "ProgressView",
      "style": "IPY_MODEL_2f70441b91ff4bf681cba85b1f99a159",
      "_dom_classes": [],
      "description": "",
      "_model_name": "FloatProgressModel",
      "bar_style": "success",
      "max": 200,
      "_view_module": "@jupyter-widgets/controls",
      "_model_module_version": "1.5.0",
      "value": 200,
      "_view_count": null,
      "_view_module_version": "1.5.0",
      "orientation": "horizontal",
      "min": 0,
      "description_tooltip": null,
      "_model_module": "@jupyter-widgets/controls",
      "layout": "IPY_MODEL_d100aeb3e31343838a34cc4054ca5dec"
     }
    },
    "b6e45ceaedce4d63893f9fcead643c7c": {
     "model_module": "@jupyter-widgets/controls",
     "model_name": "HTMLModel",
     "model_module_version": "1.5.0",
     "state": {
      "_view_name": "HTMLView",
      "style": "IPY_MODEL_1616fc6c2684420fa649db4f1c95d40c",
      "_dom_classes": [],
      "description": "",
      "_model_name": "HTMLModel",
      "placeholder": "​",
      "_view_module": "@jupyter-widgets/controls",
      "_model_module_version": "1.5.0",
      "value": " 200/200 [02:11&lt;00:00,  2.10it/s]",
      "_view_count": null,
      "_view_module_version": "1.5.0",
      "description_tooltip": null,
      "_model_module": "@jupyter-widgets/controls",
      "layout": "IPY_MODEL_82fb008ac8094003b9f3385802ac7db3"
     }
    },
    "b91554fd22a846428a6c7b191fb249f8": {
     "model_module": "@jupyter-widgets/controls",
     "model_name": "DescriptionStyleModel",
     "model_module_version": "1.5.0",
     "state": {
      "_view_name": "StyleView",
      "_model_name": "DescriptionStyleModel",
      "description_width": "",
      "_view_module": "@jupyter-widgets/base",
      "_model_module_version": "1.5.0",
      "_view_count": null,
      "_view_module_version": "1.2.0",
      "_model_module": "@jupyter-widgets/controls"
     }
    },
    "66dd62e4c0954b7a802ab5f86d1f71a1": {
     "model_module": "@jupyter-widgets/base",
     "model_name": "LayoutModel",
     "model_module_version": "1.2.0",
     "state": {
      "_view_name": "LayoutView",
      "grid_template_rows": null,
      "right": null,
      "justify_content": null,
      "_view_module": "@jupyter-widgets/base",
      "overflow": null,
      "_model_module_version": "1.2.0",
      "_view_count": null,
      "flex_flow": null,
      "width": null,
      "min_width": null,
      "border": null,
      "align_items": null,
      "bottom": null,
      "_model_module": "@jupyter-widgets/base",
      "top": null,
      "grid_column": null,
      "overflow_y": null,
      "overflow_x": null,
      "grid_auto_flow": null,
      "grid_area": null,
      "grid_template_columns": null,
      "flex": null,
      "_model_name": "LayoutModel",
      "justify_items": null,
      "grid_row": null,
      "max_height": null,
      "align_content": null,
      "visibility": null,
      "align_self": null,
      "height": null,
      "min_height": null,
      "padding": null,
      "grid_auto_rows": null,
      "grid_gap": null,
      "max_width": null,
      "order": null,
      "_view_module_version": "1.2.0",
      "grid_template_areas": null,
      "object_position": null,
      "object_fit": null,
      "grid_auto_columns": null,
      "margin": null,
      "display": null,
      "left": null
     }
    },
    "2f70441b91ff4bf681cba85b1f99a159": {
     "model_module": "@jupyter-widgets/controls",
     "model_name": "ProgressStyleModel",
     "model_module_version": "1.5.0",
     "state": {
      "_view_name": "StyleView",
      "_model_name": "ProgressStyleModel",
      "description_width": "",
      "_view_module": "@jupyter-widgets/base",
      "_model_module_version": "1.5.0",
      "_view_count": null,
      "_view_module_version": "1.2.0",
      "bar_color": null,
      "_model_module": "@jupyter-widgets/controls"
     }
    },
    "d100aeb3e31343838a34cc4054ca5dec": {
     "model_module": "@jupyter-widgets/base",
     "model_name": "LayoutModel",
     "model_module_version": "1.2.0",
     "state": {
      "_view_name": "LayoutView",
      "grid_template_rows": null,
      "right": null,
      "justify_content": null,
      "_view_module": "@jupyter-widgets/base",
      "overflow": null,
      "_model_module_version": "1.2.0",
      "_view_count": null,
      "flex_flow": null,
      "width": null,
      "min_width": null,
      "border": null,
      "align_items": null,
      "bottom": null,
      "_model_module": "@jupyter-widgets/base",
      "top": null,
      "grid_column": null,
      "overflow_y": null,
      "overflow_x": null,
      "grid_auto_flow": null,
      "grid_area": null,
      "grid_template_columns": null,
      "flex": null,
      "_model_name": "LayoutModel",
      "justify_items": null,
      "grid_row": null,
      "max_height": null,
      "align_content": null,
      "visibility": null,
      "align_self": null,
      "height": null,
      "min_height": null,
      "padding": null,
      "grid_auto_rows": null,
      "grid_gap": null,
      "max_width": null,
      "order": null,
      "_view_module_version": "1.2.0",
      "grid_template_areas": null,
      "object_position": null,
      "object_fit": null,
      "grid_auto_columns": null,
      "margin": null,
      "display": null,
      "left": null
     }
    },
    "1616fc6c2684420fa649db4f1c95d40c": {
     "model_module": "@jupyter-widgets/controls",
     "model_name": "DescriptionStyleModel",
     "model_module_version": "1.5.0",
     "state": {
      "_view_name": "StyleView",
      "_model_name": "DescriptionStyleModel",
      "description_width": "",
      "_view_module": "@jupyter-widgets/base",
      "_model_module_version": "1.5.0",
      "_view_count": null,
      "_view_module_version": "1.2.0",
      "_model_module": "@jupyter-widgets/controls"
     }
    },
    "82fb008ac8094003b9f3385802ac7db3": {
     "model_module": "@jupyter-widgets/base",
     "model_name": "LayoutModel",
     "model_module_version": "1.2.0",
     "state": {
      "_view_name": "LayoutView",
      "grid_template_rows": null,
      "right": null,
      "justify_content": null,
      "_view_module": "@jupyter-widgets/base",
      "overflow": null,
      "_model_module_version": "1.2.0",
      "_view_count": null,
      "flex_flow": null,
      "width": null,
      "min_width": null,
      "border": null,
      "align_items": null,
      "bottom": null,
      "_model_module": "@jupyter-widgets/base",
      "top": null,
      "grid_column": null,
      "overflow_y": null,
      "overflow_x": null,
      "grid_auto_flow": null,
      "grid_area": null,
      "grid_template_columns": null,
      "flex": null,
      "_model_name": "LayoutModel",
      "justify_items": null,
      "grid_row": null,
      "max_height": null,
      "align_content": null,
      "visibility": null,
      "align_self": null,
      "height": null,
      "min_height": null,
      "padding": null,
      "grid_auto_rows": null,
      "grid_gap": null,
      "max_width": null,
      "order": null,
      "_view_module_version": "1.2.0",
      "grid_template_areas": null,
      "object_position": null,
      "object_fit": null,
      "grid_auto_columns": null,
      "margin": null,
      "display": null,
      "left": null
     }
    }
   }
  }
 },
 "cells": [
  {
   "cell_type": "markdown",
   "metadata": {
    "id": "KnMeI8ow1203"
   },
   "source": [
    "## Environment Setting"
   ]
  },
  {
   "cell_type": "code",
   "metadata": {
    "id": "xccN7_1QU-ac",
    "colab": {
     "base_uri": "https://localhost:8080/"
    },
    "outputId": "1f2ee2d8-5c36-4196-d822-361a753ec34d"
   },
   "source": [
    "!pip install -U torch==1.5 torchvision==0.6 -f https://download.pytorch.org/whl/cu101/torch_stable.html\n",
    "!pip install cython pyyaml==5.1\n",
    "!pip install -U 'git+https://github.com/cocodataset/cocoapi.git#subdirectory=PythonAPI'\n",
    "!pip install dominate==2.4.0\n",
    "!pip install detectron2==0.1.2 -f https://dl.fbaipublicfiles.com/detectron2/wheels/cu101/index.html"
   ],
   "execution_count": null,
   "outputs": [
    {
     "output_type": "stream",
     "name": "stdout",
     "text": [
      "Looking in links: https://download.pytorch.org/whl/cu101/torch_stable.html\n",
      "Collecting torch==1.5\n",
      "  Downloading https://download.pytorch.org/whl/cu101/torch-1.5.0%2Bcu101-cp37-cp37m-linux_x86_64.whl (703.8 MB)\n",
      "\u001B[K     |████████████████████████████████| 703.8 MB 21 kB/s \n",
      "\u001B[?25hCollecting torchvision==0.6\n",
      "  Downloading https://download.pytorch.org/whl/cu101/torchvision-0.6.0%2Bcu101-cp37-cp37m-linux_x86_64.whl (6.6 MB)\n",
      "\u001B[K     |████████████████████████████████| 6.6 MB 28.8 MB/s \n",
      "\u001B[?25hRequirement already satisfied: future in /usr/local/lib/python3.7/dist-packages (from torch==1.5) (0.16.0)\n",
      "Requirement already satisfied: numpy in /usr/local/lib/python3.7/dist-packages (from torch==1.5) (1.19.5)\n",
      "Requirement already satisfied: pillow>=4.1.1 in /usr/local/lib/python3.7/dist-packages (from torchvision==0.6) (7.1.2)\n",
      "Installing collected packages: torch, torchvision\n",
      "  Attempting uninstall: torch\n",
      "    Found existing installation: torch 1.9.0+cu111\n",
      "    Uninstalling torch-1.9.0+cu111:\n",
      "      Successfully uninstalled torch-1.9.0+cu111\n",
      "  Attempting uninstall: torchvision\n",
      "    Found existing installation: torchvision 0.10.0+cu111\n",
      "    Uninstalling torchvision-0.10.0+cu111:\n",
      "      Successfully uninstalled torchvision-0.10.0+cu111\n",
      "\u001B[31mERROR: pip's dependency resolver does not currently take into account all the packages that are installed. This behaviour is the source of the following dependency conflicts.\n",
      "torchtext 0.10.0 requires torch==1.9.0, but you have torch 1.5.0+cu101 which is incompatible.\u001B[0m\n",
      "Successfully installed torch-1.5.0+cu101 torchvision-0.6.0+cu101\n",
      "Requirement already satisfied: cython in /usr/local/lib/python3.7/dist-packages (0.29.24)\n",
      "Collecting pyyaml==5.1\n",
      "  Downloading PyYAML-5.1.tar.gz (274 kB)\n",
      "\u001B[K     |████████████████████████████████| 274 kB 4.2 MB/s \n",
      "\u001B[?25hBuilding wheels for collected packages: pyyaml\n",
      "  Building wheel for pyyaml (setup.py) ... \u001B[?25l\u001B[?25hdone\n",
      "  Created wheel for pyyaml: filename=PyYAML-5.1-cp37-cp37m-linux_x86_64.whl size=44092 sha256=0527989880ceab819ae057a262ea04beb0aca5d9e23e74bb4baedf2ef237d322\n",
      "  Stored in directory: /root/.cache/pip/wheels/77/f5/10/d00a2bd30928b972790053b5de0c703ca87324f3fead0f2fd9\n",
      "Successfully built pyyaml\n",
      "Installing collected packages: pyyaml\n",
      "  Attempting uninstall: pyyaml\n",
      "    Found existing installation: PyYAML 3.13\n",
      "    Uninstalling PyYAML-3.13:\n",
      "      Successfully uninstalled PyYAML-3.13\n",
      "Successfully installed pyyaml-5.1\n",
      "Collecting git+https://github.com/cocodataset/cocoapi.git#subdirectory=PythonAPI\n",
      "  Cloning https://github.com/cocodataset/cocoapi.git to /tmp/pip-req-build-7syknhg6\n",
      "  Running command git clone -q https://github.com/cocodataset/cocoapi.git /tmp/pip-req-build-7syknhg6\n",
      "Requirement already satisfied: setuptools>=18.0 in /usr/local/lib/python3.7/dist-packages (from pycocotools==2.0) (57.4.0)\n",
      "Requirement already satisfied: cython>=0.27.3 in /usr/local/lib/python3.7/dist-packages (from pycocotools==2.0) (0.29.24)\n",
      "Requirement already satisfied: matplotlib>=2.1.0 in /usr/local/lib/python3.7/dist-packages (from pycocotools==2.0) (3.2.2)\n",
      "Requirement already satisfied: python-dateutil>=2.1 in /usr/local/lib/python3.7/dist-packages (from matplotlib>=2.1.0->pycocotools==2.0) (2.8.2)\n",
      "Requirement already satisfied: kiwisolver>=1.0.1 in /usr/local/lib/python3.7/dist-packages (from matplotlib>=2.1.0->pycocotools==2.0) (1.3.2)\n",
      "Requirement already satisfied: cycler>=0.10 in /usr/local/lib/python3.7/dist-packages (from matplotlib>=2.1.0->pycocotools==2.0) (0.10.0)\n",
      "Requirement already satisfied: pyparsing!=2.0.4,!=2.1.2,!=2.1.6,>=2.0.1 in /usr/local/lib/python3.7/dist-packages (from matplotlib>=2.1.0->pycocotools==2.0) (2.4.7)\n",
      "Requirement already satisfied: numpy>=1.11 in /usr/local/lib/python3.7/dist-packages (from matplotlib>=2.1.0->pycocotools==2.0) (1.19.5)\n",
      "Requirement already satisfied: six in /usr/local/lib/python3.7/dist-packages (from cycler>=0.10->matplotlib>=2.1.0->pycocotools==2.0) (1.15.0)\n",
      "Building wheels for collected packages: pycocotools\n",
      "  Building wheel for pycocotools (setup.py) ... \u001B[?25l\u001B[?25hdone\n",
      "  Created wheel for pycocotools: filename=pycocotools-2.0-cp37-cp37m-linux_x86_64.whl size=263924 sha256=633f70cf0d9bac5bb9eb7ceb07755364d8fbcfc1f738c9ab5e6b9d5ab04a39a2\n",
      "  Stored in directory: /tmp/pip-ephem-wheel-cache-rk038zjc/wheels/e2/6b/1d/344ac773c7495ea0b85eb228bc66daec7400a143a92d36b7b1\n",
      "Successfully built pycocotools\n",
      "Installing collected packages: pycocotools\n",
      "  Attempting uninstall: pycocotools\n",
      "    Found existing installation: pycocotools 2.0.2\n",
      "    Uninstalling pycocotools-2.0.2:\n",
      "      Successfully uninstalled pycocotools-2.0.2\n",
      "Successfully installed pycocotools-2.0\n",
      "Collecting dominate==2.4.0\n",
      "  Downloading dominate-2.4.0-py2.py3-none-any.whl (29 kB)\n",
      "Installing collected packages: dominate\n",
      "Successfully installed dominate-2.4.0\n",
      "Looking in links: https://dl.fbaipublicfiles.com/detectron2/wheels/cu101/index.html\n",
      "Collecting detectron2==0.1.2\n",
      "  Downloading https://dl.fbaipublicfiles.com/detectron2/wheels/cu101/torch1.5/detectron2-0.1.2%2Bcu101-cp37-cp37m-linux_x86_64.whl (6.3 MB)\n",
      "\u001B[K     |████████████████████████████████| 6.3 MB 58.4 MB/s \n",
      "\u001B[?25hRequirement already satisfied: tensorboard in /usr/local/lib/python3.7/dist-packages (from detectron2==0.1.2) (2.6.0)\n",
      "Collecting mock\n",
      "  Downloading mock-4.0.3-py3-none-any.whl (28 kB)\n",
      "Collecting fvcore\n",
      "  Downloading fvcore-0.1.5.post20211023.tar.gz (49 kB)\n",
      "\u001B[K     |████████████████████████████████| 49 kB 3.6 MB/s \n",
      "\u001B[?25hRequirement already satisfied: future in /usr/local/lib/python3.7/dist-packages (from detectron2==0.1.2) (0.16.0)\n",
      "Collecting yacs>=0.1.6\n",
      "  Downloading yacs-0.1.8-py3-none-any.whl (14 kB)\n",
      "Requirement already satisfied: cloudpickle in /usr/local/lib/python3.7/dist-packages (from detectron2==0.1.2) (1.3.0)\n",
      "Requirement already satisfied: Pillow in /usr/local/lib/python3.7/dist-packages (from detectron2==0.1.2) (7.1.2)\n",
      "Requirement already satisfied: tabulate in /usr/local/lib/python3.7/dist-packages (from detectron2==0.1.2) (0.8.9)\n",
      "Requirement already satisfied: tqdm>4.29.0 in /usr/local/lib/python3.7/dist-packages (from detectron2==0.1.2) (4.62.3)\n",
      "Requirement already satisfied: matplotlib in /usr/local/lib/python3.7/dist-packages (from detectron2==0.1.2) (3.2.2)\n",
      "Requirement already satisfied: termcolor>=1.1 in /usr/local/lib/python3.7/dist-packages (from detectron2==0.1.2) (1.1.0)\n",
      "Requirement already satisfied: pydot in /usr/local/lib/python3.7/dist-packages (from detectron2==0.1.2) (1.3.0)\n",
      "Requirement already satisfied: PyYAML in /usr/local/lib/python3.7/dist-packages (from yacs>=0.1.6->detectron2==0.1.2) (5.1)\n",
      "Requirement already satisfied: numpy in /usr/local/lib/python3.7/dist-packages (from fvcore->detectron2==0.1.2) (1.19.5)\n",
      "Collecting iopath>=0.1.7\n",
      "  Downloading iopath-0.1.9-py3-none-any.whl (27 kB)\n",
      "Collecting portalocker\n",
      "  Downloading portalocker-2.3.2-py2.py3-none-any.whl (15 kB)\n",
      "Requirement already satisfied: pyparsing!=2.0.4,!=2.1.2,!=2.1.6,>=2.0.1 in /usr/local/lib/python3.7/dist-packages (from matplotlib->detectron2==0.1.2) (2.4.7)\n",
      "Requirement already satisfied: cycler>=0.10 in /usr/local/lib/python3.7/dist-packages (from matplotlib->detectron2==0.1.2) (0.10.0)\n",
      "Requirement already satisfied: kiwisolver>=1.0.1 in /usr/local/lib/python3.7/dist-packages (from matplotlib->detectron2==0.1.2) (1.3.2)\n",
      "Requirement already satisfied: python-dateutil>=2.1 in /usr/local/lib/python3.7/dist-packages (from matplotlib->detectron2==0.1.2) (2.8.2)\n",
      "Requirement already satisfied: six in /usr/local/lib/python3.7/dist-packages (from cycler>=0.10->matplotlib->detectron2==0.1.2) (1.15.0)\n",
      "Requirement already satisfied: google-auth-oauthlib<0.5,>=0.4.1 in /usr/local/lib/python3.7/dist-packages (from tensorboard->detectron2==0.1.2) (0.4.6)\n",
      "Requirement already satisfied: wheel>=0.26 in /usr/local/lib/python3.7/dist-packages (from tensorboard->detectron2==0.1.2) (0.37.0)\n",
      "Requirement already satisfied: absl-py>=0.4 in /usr/local/lib/python3.7/dist-packages (from tensorboard->detectron2==0.1.2) (0.12.0)\n",
      "Requirement already satisfied: markdown>=2.6.8 in /usr/local/lib/python3.7/dist-packages (from tensorboard->detectron2==0.1.2) (3.3.4)\n",
      "Requirement already satisfied: tensorboard-plugin-wit>=1.6.0 in /usr/local/lib/python3.7/dist-packages (from tensorboard->detectron2==0.1.2) (1.8.0)\n",
      "Requirement already satisfied: setuptools>=41.0.0 in /usr/local/lib/python3.7/dist-packages (from tensorboard->detectron2==0.1.2) (57.4.0)\n",
      "Requirement already satisfied: protobuf>=3.6.0 in /usr/local/lib/python3.7/dist-packages (from tensorboard->detectron2==0.1.2) (3.17.3)\n",
      "Requirement already satisfied: tensorboard-data-server<0.7.0,>=0.6.0 in /usr/local/lib/python3.7/dist-packages (from tensorboard->detectron2==0.1.2) (0.6.1)\n",
      "Requirement already satisfied: grpcio>=1.24.3 in /usr/local/lib/python3.7/dist-packages (from tensorboard->detectron2==0.1.2) (1.41.0)\n",
      "Requirement already satisfied: werkzeug>=0.11.15 in /usr/local/lib/python3.7/dist-packages (from tensorboard->detectron2==0.1.2) (1.0.1)\n",
      "Requirement already satisfied: google-auth<2,>=1.6.3 in /usr/local/lib/python3.7/dist-packages (from tensorboard->detectron2==0.1.2) (1.35.0)\n",
      "Requirement already satisfied: requests<3,>=2.21.0 in /usr/local/lib/python3.7/dist-packages (from tensorboard->detectron2==0.1.2) (2.23.0)\n",
      "Requirement already satisfied: pyasn1-modules>=0.2.1 in /usr/local/lib/python3.7/dist-packages (from google-auth<2,>=1.6.3->tensorboard->detectron2==0.1.2) (0.2.8)\n",
      "Requirement already satisfied: cachetools<5.0,>=2.0.0 in /usr/local/lib/python3.7/dist-packages (from google-auth<2,>=1.6.3->tensorboard->detectron2==0.1.2) (4.2.4)\n",
      "Requirement already satisfied: rsa<5,>=3.1.4 in /usr/local/lib/python3.7/dist-packages (from google-auth<2,>=1.6.3->tensorboard->detectron2==0.1.2) (4.7.2)\n",
      "Requirement already satisfied: requests-oauthlib>=0.7.0 in /usr/local/lib/python3.7/dist-packages (from google-auth-oauthlib<0.5,>=0.4.1->tensorboard->detectron2==0.1.2) (1.3.0)\n",
      "Requirement already satisfied: importlib-metadata in /usr/local/lib/python3.7/dist-packages (from markdown>=2.6.8->tensorboard->detectron2==0.1.2) (4.8.1)\n",
      "Requirement already satisfied: pyasn1<0.5.0,>=0.4.6 in /usr/local/lib/python3.7/dist-packages (from pyasn1-modules>=0.2.1->google-auth<2,>=1.6.3->tensorboard->detectron2==0.1.2) (0.4.8)\n",
      "Requirement already satisfied: idna<3,>=2.5 in /usr/local/lib/python3.7/dist-packages (from requests<3,>=2.21.0->tensorboard->detectron2==0.1.2) (2.10)\n",
      "Requirement already satisfied: urllib3!=1.25.0,!=1.25.1,<1.26,>=1.21.1 in /usr/local/lib/python3.7/dist-packages (from requests<3,>=2.21.0->tensorboard->detectron2==0.1.2) (1.24.3)\n",
      "Requirement already satisfied: certifi>=2017.4.17 in /usr/local/lib/python3.7/dist-packages (from requests<3,>=2.21.0->tensorboard->detectron2==0.1.2) (2021.5.30)\n",
      "Requirement already satisfied: chardet<4,>=3.0.2 in /usr/local/lib/python3.7/dist-packages (from requests<3,>=2.21.0->tensorboard->detectron2==0.1.2) (3.0.4)\n",
      "Requirement already satisfied: oauthlib>=3.0.0 in /usr/local/lib/python3.7/dist-packages (from requests-oauthlib>=0.7.0->google-auth-oauthlib<0.5,>=0.4.1->tensorboard->detectron2==0.1.2) (3.1.1)\n",
      "Requirement already satisfied: zipp>=0.5 in /usr/local/lib/python3.7/dist-packages (from importlib-metadata->markdown>=2.6.8->tensorboard->detectron2==0.1.2) (3.6.0)\n",
      "Requirement already satisfied: typing-extensions>=3.6.4 in /usr/local/lib/python3.7/dist-packages (from importlib-metadata->markdown>=2.6.8->tensorboard->detectron2==0.1.2) (3.7.4.3)\n",
      "Building wheels for collected packages: fvcore\n",
      "  Building wheel for fvcore (setup.py) ... \u001B[?25l\u001B[?25hdone\n",
      "  Created wheel for fvcore: filename=fvcore-0.1.5.post20211023-py3-none-any.whl size=60947 sha256=f775a1fe716338f97e65ec556e18ed950db69f2de8a15136eb41496a899dbd17\n",
      "  Stored in directory: /root/.cache/pip/wheels/16/98/fc/252d62cab6263c719120e06b28f3378af59b52ce7a20e81852\n",
      "Successfully built fvcore\n",
      "Installing collected packages: portalocker, yacs, iopath, mock, fvcore, detectron2\n",
      "Successfully installed detectron2-0.1.2+cu101 fvcore-0.1.5.post20211023 iopath-0.1.9 mock-4.0.3 portalocker-2.3.2 yacs-0.1.8\n"
     ]
    }
   ]
  },
  {
   "cell_type": "markdown",
   "metadata": {
    "id": "53YjTYjm1j58"
   },
   "source": [
    "## Clone the file from Gihub"
   ]
  },
  {
   "cell_type": "code",
   "metadata": {
    "id": "UoxuluzJmbiC",
    "colab": {
     "base_uri": "https://localhost:8080/"
    },
    "outputId": "6704732f-22f4-45ef-dbe5-284e92060f35"
   },
   "source": [
    "!git clone https://github.com/ericsujw/InstColorization.git"
   ],
   "execution_count": null,
   "outputs": [
    {
     "output_type": "stream",
     "name": "stdout",
     "text": [
      "Cloning into 'InstColorization'...\n",
      "remote: Enumerating objects: 211, done.\u001B[K\n",
      "remote: Counting objects: 100% (34/34), done.\u001B[K\n",
      "remote: Compressing objects: 100% (23/23), done.\u001B[K\n",
      "remote: Total 211 (delta 15), reused 11 (delta 11), pack-reused 177\u001B[K\n",
      "Receiving objects: 100% (211/211), 6.11 MiB | 9.91 MiB/s, done.\n",
      "Resolving deltas: 100% (82/82), done.\n"
     ]
    }
   ]
  },
  {
   "cell_type": "markdown",
   "metadata": {
    "id": "L65jjMKVpfkH"
   },
   "source": [
    "## Start Colorization"
   ]
  },
  {
   "cell_type": "code",
   "metadata": {
    "id": "lIzoQKQhdTIl",
    "colab": {
     "base_uri": "https://localhost:8080/"
    },
    "outputId": "6e04264a-6735-4523-d2c5-ea1f7ef3110f"
   },
   "source": [
    "cd InstColorization/"
   ],
   "execution_count": null,
   "outputs": [
    {
     "output_type": "stream",
     "name": "stdout",
     "text": [
      "/content/InstColorization\n"
     ]
    }
   ]
  },
  {
   "cell_type": "markdown",
   "metadata": {
    "id": "sO-tvByunH3G"
   },
   "source": [
    "## Download the Model"
   ]
  },
  {
   "cell_type": "code",
   "metadata": {
    "id": "SRQme7UHnNMf",
    "colab": {
     "base_uri": "https://localhost:8080/"
    },
    "outputId": "9ce8be96-47b1-4c29-a15d-2811ecd970f5"
   },
   "source": [
    "!sh scripts/download_model.sh"
   ],
   "execution_count": null,
   "outputs": [
    {
     "output_type": "stream",
     "name": "stdout",
     "text": [
      "Downloading...\n",
      "Finish download.\n",
      "Archive:  checkpoints.zip\n",
      "   creating: checkpoints/coco_finetuned_mask_256_ffs/\n",
      "  inflating: checkpoints/coco_finetuned_mask_256_ffs/latest_net_GComp.pth  \n",
      "  inflating: checkpoints/coco_finetuned_mask_256_ffs/latest_net_G.pth  \n",
      "  inflating: checkpoints/coco_finetuned_mask_256_ffs/latest_net_GF.pth  \n",
      "   creating: checkpoints/coco_finetuned_mask_256/\n",
      "  inflating: checkpoints/coco_finetuned_mask_256/latest_net_GComp.pth  \n",
      "  inflating: checkpoints/coco_finetuned_mask_256/latest_net_G.pth  \n",
      "  inflating: checkpoints/coco_finetuned_mask_256/latest_net_GF.pth  \n",
      "   creating: checkpoints/siggraph_retrained/\n",
      "  inflating: checkpoints/siggraph_retrained/latest_net_G.pth  \n"
     ]
    }
   ]
  },
  {
   "cell_type": "markdown",
   "metadata": {
    "id": "92YnbNtU2cdx"
   },
   "source": [
    "### Detect Object bounding box\n"
   ]
  },
  {
   "cell_type": "markdown",
   "metadata": {
    "id": "3Z8V8s3f3cs0"
   },
   "source": [
    "Setting the Detectron2."
   ]
  },
  {
   "cell_type": "code",
   "metadata": {
    "id": "ngV-n2MbvvTZ",
    "colab": {
     "base_uri": "https://localhost:8080/"
    },
    "outputId": "ce798fc7-3bc7-4d28-d14e-27e9a70d7452"
   },
   "source": [
    "from os.path import join, isfile, isdir\n",
    "from os import listdir\n",
    "import os\n",
    "os.environ[\"CUDA_VISIBLE_DEVICES\"] = \"0\"\n",
    "from argparse import ArgumentParser\n",
    "\n",
    "import detectron2\n",
    "from detectron2.utils.logger import setup_logger\n",
    "setup_logger()\n",
    "\n",
    "import numpy as np\n",
    "import cv2\n",
    "\n",
    "# import some common detectron2 utilities\n",
    "from detectron2 import model_zoo\n",
    "from detectron2.engine import DefaultPredictor\n",
    "from detectron2.config import get_cfg\n",
    "\n",
    "import torch\n",
    "\n",
    "cfg = get_cfg()\n",
    "cfg.merge_from_file(model_zoo.get_config_file(\"COCO-InstanceSegmentation/mask_rcnn_X_101_32x8d_FPN_3x.yaml\"))\n",
    "cfg.MODEL.ROI_HEADS.SCORE_THRESH_TEST = 0.7\n",
    "cfg.MODEL.WEIGHTS = model_zoo.get_checkpoint_url(\"COCO-InstanceSegmentation/mask_rcnn_X_101_32x8d_FPN_3x.yaml\")\n",
    "predictor = DefaultPredictor(cfg)"
   ],
   "execution_count": null,
   "outputs": [
    {
     "output_type": "stream",
     "name": "stderr",
     "text": [
      "model_final_2d9806.pkl: 431MB [00:36, 11.8MB/s]                           \n"
     ]
    }
   ]
  },
  {
   "cell_type": "code",
   "metadata": {
    "colab": {
     "base_uri": "https://localhost:8080/"
    },
    "id": "M-gLN9quzaYX",
    "outputId": "48e37bd6-3c0f-4629-a57a-725000109dc6"
   },
   "source": [
    "cd .."
   ],
   "execution_count": null,
   "outputs": [
    {
     "output_type": "stream",
     "name": "stdout",
     "text": [
      "/content\n"
     ]
    }
   ]
  },
  {
   "cell_type": "code",
   "metadata": {
    "id": "XL459IUYzcSO"
   },
   "source": [
    "!unzip imgs.zip\n",
    "#scambiare cartella imgs con cartella example"
   ],
   "execution_count": null,
   "outputs": []
  },
  {
   "cell_type": "code",
   "metadata": {
    "colab": {
     "base_uri": "https://localhost:8080/"
    },
    "id": "sFCokuuzz49J",
    "outputId": "29835975-5005-44f9-8216-54434494db1d"
   },
   "source": [
    "cd InstColorization"
   ],
   "execution_count": null,
   "outputs": [
    {
     "output_type": "stream",
     "name": "stdout",
     "text": [
      "/content/InstColorization\n"
     ]
    }
   ]
  },
  {
   "cell_type": "markdown",
   "metadata": {
    "id": "HUfLSSQf32SJ"
   },
   "source": [
    "Let's create a bounding box folder to save our prediction results."
   ]
  },
  {
   "cell_type": "code",
   "metadata": {
    "id": "Y5RSCOwA4Cum",
    "colab": {
     "base_uri": "https://localhost:8080/"
    },
    "outputId": "32f0fb5b-0131-4aea-d2d3-f2444770b1e5"
   },
   "source": [
    "input_dir = \"example\"\n",
    "image_list = [f for f in listdir(input_dir) if (isfile(join(input_dir, f)) and f != '.DS_Store')]\n",
    "output_npz_dir = \"{0}_bbox\".format(input_dir)\n",
    "if os.path.isdir(output_npz_dir) is False:\n",
    "    print('Create path: {0}'.format(output_npz_dir))\n",
    "    os.makedirs(output_npz_dir)"
   ],
   "execution_count": null,
   "outputs": [
    {
     "output_type": "stream",
     "name": "stdout",
     "text": [
      "Create path: example_bbox\n"
     ]
    }
   ]
  },
  {
   "cell_type": "markdown",
   "metadata": {
    "id": "hBlhTIoA4YSB"
   },
   "source": [
    "Here we simply take L channel as our input and make sure that we can get consistent box prediction results even though the original image is color images."
   ]
  },
  {
   "cell_type": "code",
   "metadata": {
    "id": "60Z0uIQH4ztv"
   },
   "source": [
    "for image_path in image_list:\n",
    "    img = cv2.imread(join(input_dir, image_path))\n",
    "    lab_image = cv2.cvtColor(img, cv2.COLOR_BGR2LAB)\n",
    "    l_channel, a_channel, b_channel = cv2.split(lab_image)\n",
    "    l_stack = np.stack([l_channel, l_channel, l_channel], axis=2)\n",
    "    outputs = predictor(l_stack)\n",
    "    save_path = join(output_npz_dir, image_path.split('.')[0])\n",
    "    pred_bbox = outputs[\"instances\"].pred_boxes.to(torch.device('cpu')).tensor.numpy()\n",
    "    pred_scores = outputs[\"instances\"].scores.cpu().data.numpy()\n",
    "    np.savez(save_path, bbox = pred_bbox, scores = pred_scores)"
   ],
   "execution_count": null,
   "outputs": []
  },
  {
   "cell_type": "markdown",
   "metadata": {
    "id": "4Z4y8giu48hV"
   },
   "source": [
    "Now we have all the images' prediction results."
   ]
  },
  {
   "cell_type": "markdown",
   "metadata": {
    "id": "fYvWpoUl5VKX"
   },
   "source": [
    "### Colorize Images"
   ]
  },
  {
   "cell_type": "markdown",
   "metadata": {
    "id": "_0qhXEQ45bxc"
   },
   "source": [
    "We first set up some libraries and options"
   ]
  },
  {
   "cell_type": "code",
   "metadata": {
    "id": "g80xLXzi9tOB"
   },
   "source": [
    "import sys\n",
    "import time\n",
    "from options.train_options import TestOptions\n",
    "from models import create_model\n",
    "\n",
    "import torch\n",
    "from tqdm import tqdm_notebook\n",
    "\n",
    "from fusion_dataset import Fusion_Testing_Dataset\n",
    "from util import util\n",
    "import multiprocessing\n",
    "multiprocessing.set_start_method('spawn', True)\n",
    "\n",
    "torch.backends.cudnn.benchmark = True\n",
    "\n",
    "sys.argv = [sys.argv[0]]\n",
    "opt = TestOptions().parse()"
   ],
   "execution_count": null,
   "outputs": []
  },
  {
   "cell_type": "markdown",
   "metadata": {
    "id": "xsMYnRQeKQEw"
   },
   "source": [
    "Then we need to create a results folder to save our predicted color images and read the dataset loader."
   ]
  },
  {
   "cell_type": "code",
   "metadata": {
    "id": "KTWCeb2iEWFM",
    "cellView": "code",
    "colab": {
     "base_uri": "https://localhost:8080/"
    },
    "outputId": "25ea5c5d-5a05-4ee2-9f68-eaef2a0e909e"
   },
   "source": [
    "save_img_path = opt.results_img_dir\n",
    "if os.path.isdir(save_img_path) is False:\n",
    "    print('Create path: {0}'.format(save_img_path))\n",
    "    os.makedirs(save_img_path)\n",
    "opt.batch_size = 1\n",
    "dataset = Fusion_Testing_Dataset(opt, -1)\n",
    "dataset_loader = torch.utils.data.DataLoader(dataset, batch_size=opt.batch_size)\n",
    "\n",
    "dataset_size = len(dataset)\n",
    "print('#Testing images = %d' % dataset_size)"
   ],
   "execution_count": null,
   "outputs": [
    {
     "output_type": "stream",
     "name": "stdout",
     "text": [
      "Create path: results\n",
      "#Testing images = 200\n"
     ]
    }
   ]
  },
  {
   "cell_type": "markdown",
   "metadata": {
    "id": "6aBEbi-vKgLG"
   },
   "source": [
    "Load the pre-trained model."
   ]
  },
  {
   "cell_type": "code",
   "metadata": {
    "id": "kpw5UGUWImIq",
    "colab": {
     "base_uri": "https://localhost:8080/"
    },
    "outputId": "65aabc70-16d9-4145-c938-6e7643051a96"
   },
   "source": [
    "model = create_model(opt)\n",
    "model.setup_to_test('coco_finetuned_mask_256_ffs')"
   ],
   "execution_count": null,
   "outputs": [
    {
     "output_type": "stream",
     "name": "stdout",
     "text": [
      "initialize network with normal\n",
      "initialize network with normal\n",
      "initialize network with normal\n",
      "model [FusionModel] was created\n",
      "load Fusion model from checkpoints/coco_finetuned_mask_256_ffs/latest_net_GF.pth\n"
     ]
    }
   ]
  },
  {
   "cell_type": "markdown",
   "metadata": {
    "id": "vornjFjuKlzu"
   },
   "source": [
    "Start to colorize every images in `dataset_loader`."
   ]
  },
  {
   "cell_type": "code",
   "metadata": {
    "id": "mwy1Tvh8Iuzm",
    "colab": {
     "base_uri": "https://localhost:8080/",
     "height": 170,
     "referenced_widgets": [
      "07d6dceeea5b4615a2ca2fec1e576a60",
      "d402b4552dcb43bbb69e0fe86aee2c8b",
      "2b3ede9502124fe392c53a7f4eca78e8",
      "5c060741e83a4b998d762500298c6cb7",
      "b6e45ceaedce4d63893f9fcead643c7c",
      "b91554fd22a846428a6c7b191fb249f8",
      "66dd62e4c0954b7a802ab5f86d1f71a1",
      "2f70441b91ff4bf681cba85b1f99a159",
      "d100aeb3e31343838a34cc4054ca5dec",
      "1616fc6c2684420fa649db4f1c95d40c",
      "82fb008ac8094003b9f3385802ac7db3"
     ]
    },
    "outputId": "6aeb912b-73be-4644-90fb-414b71593237"
   },
   "source": [
    "count_empty = 0\n",
    "for data_raw in tqdm_notebook(dataset_loader):\n",
    "    data_raw['full_img'][0] = data_raw['full_img'][0].cuda()\n",
    "    if data_raw['empty_box'][0] == 0:\n",
    "        data_raw['cropped_img'][0] = data_raw['cropped_img'][0].cuda()\n",
    "        box_info = data_raw['box_info'][0]\n",
    "        box_info_2x = data_raw['box_info_2x'][0]\n",
    "        box_info_4x = data_raw['box_info_4x'][0]\n",
    "        box_info_8x = data_raw['box_info_8x'][0]\n",
    "        cropped_data = util.get_colorization_data(data_raw['cropped_img'], opt, ab_thresh=0, p=opt.sample_p)\n",
    "        full_img_data = util.get_colorization_data(data_raw['full_img'], opt, ab_thresh=0, p=opt.sample_p)\n",
    "        model.set_input(cropped_data)\n",
    "        model.set_fusion_input(full_img_data, [box_info, box_info_2x, box_info_4x, box_info_8x])\n",
    "        model.forward()\n",
    "    else:\n",
    "        count_empty += 1\n",
    "        full_img_data = util.get_colorization_data(data_raw['full_img'], opt, ab_thresh=0, p=opt.sample_p)\n",
    "        model.set_forward_without_box(full_img_data)\n",
    "    model.save_current_imgs(join(save_img_path, data_raw['file_id'][0] + '.png'))\n",
    "print('{0} images without bounding boxes'.format(count_empty))"
   ],
   "execution_count": null,
   "outputs": [
    {
     "output_type": "stream",
     "name": "stderr",
     "text": [
      "/usr/local/lib/python3.7/dist-packages/ipykernel_launcher.py:2: TqdmDeprecationWarning: This function will be removed in tqdm==5.0.0\n",
      "Please use `tqdm.notebook.tqdm` instead of `tqdm.tqdm_notebook`\n",
      "  \n"
     ]
    },
    {
     "output_type": "display_data",
     "data": {
      "application/vnd.jupyter.widget-view+json": {
       "model_id": "07d6dceeea5b4615a2ca2fec1e576a60",
       "version_minor": 0,
       "version_major": 2
      },
      "text/plain": [
       "  0%|          | 0/200 [00:00<?, ?it/s]"
      ]
     },
     "metadata": {}
    },
    {
     "output_type": "stream",
     "name": "stderr",
     "text": [
      "/usr/local/lib/python3.7/dist-packages/torch/nn/functional.py:2973: UserWarning: Default upsampling behavior when mode=bilinear is changed to align_corners=False since 0.4.0. Please specify align_corners=True if the old behavior is desired. See the documentation of nn.Upsample for details.\n",
      "  \"See the documentation of nn.Upsample for details.\".format(mode))\n"
     ]
    },
    {
     "output_type": "stream",
     "name": "stdout",
     "text": [
      "12 images without bounding boxes\n"
     ]
    }
   ]
  },
  {
   "cell_type": "code",
   "metadata": {
    "colab": {
     "base_uri": "https://localhost:8080/"
    },
    "id": "ZDxbvjgM0EV1",
    "outputId": "4d26a313-b7c1-4fda-b1cb-e9911a19d5c8"
   },
   "source": [
    "cd InstColorization"
   ],
   "execution_count": null,
   "outputs": [
    {
     "output_type": "stream",
     "name": "stdout",
     "text": [
      "[Errno 2] No such file or directory: 'InstColorization'\n",
      "/content/InstColorization\n"
     ]
    }
   ]
  },
  {
   "cell_type": "code",
   "metadata": {
    "id": "--VT-dqC0HhY"
   },
   "source": [
    "!zip -r results.zip results"
   ],
   "execution_count": null,
   "outputs": []
  },
  {
   "cell_type": "code",
   "metadata": {
    "colab": {
     "base_uri": "https://localhost:8080/",
     "height": 34
    },
    "id": "dPkecPou0Jex",
    "outputId": "9b122cd1-1722-44b1-db51-542694de54d7"
   },
   "source": [
    "from google.colab import files\n",
    "files.download(\"results.zip\") "
   ],
   "execution_count": null,
   "outputs": [
    {
     "output_type": "display_data",
     "data": {
      "application/javascript": [
       "\n",
       "    async function download(id, filename, size) {\n",
       "      if (!google.colab.kernel.accessAllowed) {\n",
       "        return;\n",
       "      }\n",
       "      const div = document.createElement('div');\n",
       "      const label = document.createElement('label');\n",
       "      label.textContent = `Downloading \"${filename}\": `;\n",
       "      div.appendChild(label);\n",
       "      const progress = document.createElement('progress');\n",
       "      progress.max = size;\n",
       "      div.appendChild(progress);\n",
       "      document.body.appendChild(div);\n",
       "\n",
       "      const buffers = [];\n",
       "      let downloaded = 0;\n",
       "\n",
       "      const channel = await google.colab.kernel.comms.open(id);\n",
       "      // Send a message to notify the kernel that we're ready.\n",
       "      channel.send({})\n",
       "\n",
       "      for await (const message of channel.messages) {\n",
       "        // Send a message to notify the kernel that we're ready.\n",
       "        channel.send({})\n",
       "        if (message.buffers) {\n",
       "          for (const buffer of message.buffers) {\n",
       "            buffers.push(buffer);\n",
       "            downloaded += buffer.byteLength;\n",
       "            progress.value = downloaded;\n",
       "          }\n",
       "        }\n",
       "      }\n",
       "      const blob = new Blob(buffers, {type: 'application/binary'});\n",
       "      const a = document.createElement('a');\n",
       "      a.href = window.URL.createObjectURL(blob);\n",
       "      a.download = filename;\n",
       "      div.appendChild(a);\n",
       "      a.click();\n",
       "      div.remove();\n",
       "    }\n",
       "  "
      ],
      "text/plain": [
       "<IPython.core.display.Javascript object>"
      ]
     },
     "metadata": {}
    },
    {
     "output_type": "display_data",
     "data": {
      "application/javascript": [
       "download(\"download_1b6dd083-962f-4d48-ae05-832d8aa4c49c\", \"results.zip\", 22055074)"
      ],
      "text/plain": [
       "<IPython.core.display.Javascript object>"
      ]
     },
     "metadata": {}
    }
   ]
  }
 ]
}